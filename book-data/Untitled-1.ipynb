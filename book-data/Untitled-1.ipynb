{
 "cells": [
  {
   "cell_type": "code",
   "execution_count": null,
   "metadata": {},
   "outputs": [
    {
     "ename": "",
     "evalue": "",
     "output_type": "error",
     "traceback": [
      "\u001b[1;31mJupyter を起動できません。Jupyter の検索中にエラーが発生しました: 実行中のセルには jupyter および notebook パッケージが必要です。\n",
      "\u001b[1;31m次のコマンドを実行して、'jupyter および notebook' を Python 環境にインストールします。\n",
      "\u001b[1;31mコマンド: 'python -m pip install jupyter notebook -U\n",
      "\u001b[1;31mor\n",
      "\u001b[1;31mconda install jupyter notebook -U'\n",
      "\u001b[1;31m詳細については<a href='https://aka.ms/installJupyterForVSCode'>こちら</a>をクリックしてください。"
     ]
    }
   ],
   "source": [
    "#input\n",
    "import numpy as np\n",
    "import matplotlib.pyplot as plt\n",
    "#シード設定\n",
    "np.random.seed(0)\n",
    "#λ=2のポアソン分布に従う乱数を10000個生成\n",
    "k = np.random.poisson(2,10000)\n",
    "#階級値の設定\n",
    "x = np.arange(0,10)-0.5\n",
    "\n",
    "fig = plt.figure()\n",
    "A = fig.add_subplot(111)\n",
    "A.grid(color=\"k\",linestyle=\"dotted\")\n",
    "A.set_title(\"Poisson distribution\", fontsize = 16)\n",
    "A.set_xlabel(\"k\", fontsize = 14)\n",
    "A.set_ylabel(\"P(X=k)\", fontsize = 14)\n",
    "#density=Trueで乱数を正規化する\n",
    "A.hist(k,x,rwidth=0.5,density=True,color=\"lime\")\n",
    "plt.show()"
   ]
  }
 ],
 "metadata": {
  "kernelspec": {
   "display_name": "Python 3",
   "language": "python",
   "name": "python3"
  },
  "language_info": {
   "name": "python",
   "version": "3.9.6 (default, Oct 18 2022, 12:41:40) \n[Clang 14.0.0 (clang-1400.0.29.202)]"
  },
  "orig_nbformat": 4,
  "vscode": {
   "interpreter": {
    "hash": "31f2aee4e71d21fbe5cf8b01ff0e069b9275f58929596ceb00d14d90e3e16cd6"
   }
  }
 },
 "nbformat": 4,
 "nbformat_minor": 2
}
